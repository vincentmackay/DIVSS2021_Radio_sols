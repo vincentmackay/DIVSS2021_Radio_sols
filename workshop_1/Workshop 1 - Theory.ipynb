{
 "cells": [
  {
   "cell_type": "markdown",
   "metadata": {},
   "source": [
    "# Workshop 1 - Theory\n",
    "## Radio signal detection and the properties of thermal radiation and noise\n",
    "\n",
    "\n",
    "*Inspired by the Lab \\#2 of AST 325 (Fall 2018), by Prof. Keith Vanderlinde (University of Toronto), and by external sources cited in that lab.*\n",
    "\n"
   ]
  },
  {
   "cell_type": "markdown",
   "metadata": {},
   "source": [
    "### Glossary\n",
    "\n",
    "- **Waveguide:** constrains the propagation of light to a specific direction, e.g. metal tubes, coax cable, microstrip, optical fibre\n",
    "- **Feed:** couples light from free space into the waveguide\n",
    "- **Mixer:** shifts the frequency of the light into a band that's easier to measure\n",
    "- **Amplifier:** amplifies the oscillation of the electric fields, but adds noise\n",
    "- **Filter:** reflects or attenuates undesired frequencies\n",
    "- **Analog-to-digital Converter (ADC):** measures the electric fields and records it digitally"
   ]
  },
  {
   "cell_type": "markdown",
   "metadata": {},
   "source": [
    "### Power vs Electric Fields\n",
    "\n",
    "Photon counters such as most optical detectors (i.e. cameras) measure the total incident **power**. Radio receivers, on the other hand, make coherent measurements, meaning that they measure the **electric field**. Recall the relation between power and electric fields, from electromagnetism:\n",
    "\n",
    "\\begin{equation}\n",
    "    P = \\frac{\\epsilon_0 c E_0^2}{2} \\propto \\langle|E|^2\\rangle.\n",
    "\\end{equation}\n",
    "\n",
    "The electric fields are measured through the **voltage** at some point along the waveguide, over time."
   ]
  },
  {
   "cell_type": "markdown",
   "metadata": {},
   "source": [
    "### Spectra and Fourier Transforms\n",
    "\n",
    "With electric field (or voltage) time series, it is easy to find the **spectrum** (power as a function of frequency) of the incoming radiation, via **Fourier transforms**, denoted here as $\\mathcal{F}\\{\\}$:\n",
    "\n",
    "\\begin{equation}\n",
    "    \\mathcal{F}\\{E(t)\\} = \\tilde E(\\nu),\n",
    "\\end{equation}\n",
    "\n",
    "where $\\tilde E(\\nu)$ is complex valued, and $\\nu$ is the frequency. $\\tilde E(\\nu)$ is said to be the Fourier transform of $E(t)$, because it can be used to represent $E(t)$ *exactly* by an infinite sum of sinusoids with amplitudes $|\\tilde E|$ and phases $\\tilde E_\\phi$ equal to:\n",
    "\n",
    "\\begin{equation}\n",
    "    |\\tilde E(\\nu)| = \\sqrt{\\mathrm{Re}\\{\\tilde E(\\nu)\\} ^ 2 + \\mathrm{Im}\\{\\tilde E(\\nu)\\} ^ 2}\\\\\n",
    "    \\tilde E_\\phi(\\nu) = \\arctan\\left(\\frac{ \\mathrm{Im}\\{\\tilde E(\\nu)\\} }{ \\mathrm{Re}\\{\\tilde E(\\nu)\\}}\\right ).\n",
    "\\end{equation}\n",
    "\n",
    "The phase is very important when we compare the relative phase of different receivers in the context of interferometry. In this workshop, we won't be doing interferometry, so we can ignore the phase and focus on the amplitude. In fact, since we care about the power, which is the square of the amplitude, the quantity of interest will be the power spectrum $P(\\nu)$:\n",
    "\n",
    "\\begin{equation}\n",
    "    P(\\nu) = \\mathrm{Re}{\\{\\tilde E(\\nu)\\}} ^ 2 + \\mathrm{Im}{\\{\\tilde E(\\nu)\\}} ^ 2 = |\\tilde E(\\nu)|^2.\n",
    "\\end{equation}\n"
   ]
  },
  {
   "cell_type": "markdown",
   "metadata": {},
   "source": [
    "### Sampling\n",
    "\n",
    "\n",
    "The theory behind Fourier transforms requires that the transform be performed on an infinitely long time signal. However, we don't have infinite time on our hands, and we also want to know how to power spectrum changes over time, so we perform the Fourier transform on a short portions of our time series. The duration of those portions is $t = N\\Delta t$, where $N$ is the number of time samples in each of our Fourier transforms, and $\\Delta t$ is the time between the samples. The trade-off of a shorter $t$ is a less precise frequency resolution $\\Delta \\nu_{res}$. Indeed, the power $P(\\nu)$ as written above really describes the power within $\\nu$ and $\\nu + \\Delta \\nu_{res}$, where \n",
    "\n",
    "\\begin{equation}\n",
    "    \\Delta \\nu_{res} = \\frac{1}{t} =  \\frac{1}{N\\Delta t}.\n",
    "\\end{equation}\n",
    "\n",
    "According to the **Nyquist-Shannon Sampling Theorem** (commonly referred as the Nyquist theorem), the sampling interval $\\Delta t$ determines the maximum width of the sampled band $\\Delta \\nu$. The main idea that underpins this theorem is that a high frequency sinusoidal wave can be confused with a sinusoidal wave of a lower frequency if the time between the samples is too short. The figure below illustrates this phenomenon, where two signals of different frequencies will be indistinguishable if the sampling intervals are too short. In this case, we say that the higher frequency is *aliased* down to the lower frequency. Hence, the Nyquist theorem tells us that to avoid aliasing, the width of the sampled band must not exceed $\\frac{1}{2}\\Delta t^{-1}$."
   ]
  },
  {
   "cell_type": "markdown",
   "metadata": {},
   "source": [
    "<center><img src=\"Nyquist.png\"/></center>"
   ]
  },
  {
   "cell_type": "markdown",
   "metadata": {},
   "source": [
    "## Thermal Noise\n",
    "\n",
    "Objects with non-zero temperatures will emit blackbody radiation. At radio frequencies, we can use the Raylegh-Jeans law to approximate the flux as\n",
    "\n",
    "\\begin{equation}\n",
    " B_\\nu(T) = \\left(\\frac{2\\nu^2 k_B}{c^2}\\right)T,\n",
    "\\end{equation}\n",
    "\n",
    "where $B_\\nu$ is the radiant flux, $T$ is the temperature, $k_B$ is the Boltzmann constant, and $c$ is the speed of light. The figure below (taken from Wikipedia) shows the Rayleigh-Jeans (low frequencies) and Wien (high frequencies) approximations, in comparison with Planck's law, for a 8 mK radiatior. "
   ]
  },
  {
   "cell_type": "markdown",
   "metadata": {},
   "source": [
    "<center><img src=\"rayleigh_wien.png\"/></center>"
   ]
  },
  {
   "cell_type": "markdown",
   "metadata": {},
   "source": [
    "It is common in radio astronomy to describe signals in terms of temperature of a thermal source which would generate the same amount of energy. However, our radio receiver does not just measure the power coming from the source of interest. Indeed, the beam of our feed may see other undesired sources such as **radio frequency interference (RFI)**, radiation from the atmosphere, from the ground, etc.—not only that, but the receiver itself generates noise power through all its components. All in all, what we actually get is the total **system temperature** $T_{sys}$:\n",
    "\n",
    "\\begin{equation}\n",
    "    T_{sys} = T_{CMB} + \\Delta T_{source} + T_{atm} + T_{spill} + T_{RFI} + T_{receiver} + ...\n",
    "\\end{equation}\n",
    "\n",
    "The equations that relates the measured power to a temperature is the following:\n",
    "\n",
    "\\begin{equation}\n",
    "    P = k_BT\\Delta\\nu.\n",
    "\\end{equation}"
   ]
  },
  {
   "cell_type": "markdown",
   "metadata": {},
   "source": [
    "## Normal and χ² Distributions\n",
    "\n",
    "The fields coming off a thermal radiator are generated by a large number of independent and random quantum mechanical events, which, according to the **central limit theorem**, should tend toward a **normal distribution**, or Gaussian. The probability of measuring a given electic field $E$ is thus given by the formula for a Gaussian,\n",
    "\n",
    "\\begin{equation}\n",
    "    Pr(E) = A e^{-\\left(E-\\langle E\\rangle\\right)^2/\\sigma^2},\n",
    "\\end{equation}\n",
    "\n",
    "where $\\langle E \\rangle =0$ since static electric fields (i.e. the only contribution that isn't averaged at zero) typically don't persist in free space, and are filtered out in the signal chain anyway.\n",
    "\n",
    "Now we have that the power $P$ is proportional to the square of the electric field, and so\n",
    "\n",
    "\\begin{equation}\n",
    "    T \\propto P \\propto \\langle E^2 \\rangle,\n",
    "\\end{equation}\n",
    "\n",
    "and getting the right constant of proportionality—which most often varies over the band, and over time—is done in the **calibration** of the receiver. Note that $\\langle E^2 \\rangle$ happens to be equal to the variance of the electric field distribution, since\n",
    "\n",
    "\\begin{equation}\n",
    "\\begin{split}\n",
    "    Var(E) &\\equiv \\langle\\left(E - \\langle E\\rangle\\right)^2\\rangle\\\\\n",
    "    & =\\langle E^2\\rangle - \\langle E\\rangle ^2\\\\\n",
    "    &= \\langle E^2\\rangle\\\\\n",
    "    \\therefore T &\\propto Var(E).\n",
    "\\end{split}\n",
    "\\end{equation}\n",
    "\n",
    "To understand the uncertainty on radiometric data, one needs to refer to **$\\chi^2$ distributions**. Typicially notated $\\chi_k^2$, they describe the distribution of the sums of the squares of $k$ independent variables, or **degrees of freedom** (DoF). In the case of measuring a temperature, the $k$ DoF are the samples of the electric field. Using some $\\chi^2$ theory without proof (see the Wikipedia for $\\chi^2$ distributions for more details), we find\n",
    "\n",
    "\\begin{equation}\n",
    "\\begin{split}\n",
    "    \\sigma_T &= \\sqrt{Var\\left(\\frac{T}{k}\\cdot\\chi_k^2\\right)}\\\\\n",
    "    &= \\sqrt{\\left(\\frac{T}{k}\\right)^2 \\cdot 2k}\\\\\n",
    "    &= T\\sqrt{\\frac{2}{k}}.\n",
    "\\end{split}\n",
    "\\end{equation}\n",
    "\n",
    "Here, $k$ is the number of samples included in the Fourier transform, or the number of time samples used when averaging part of a time series to get a temperature. We replace $k$ by $N$, a more common label for the number of samples, and the fractional uncertainty is\n",
    "\n",
    "\\begin{equation}\n",
    "    \\frac{\\sigma_T}{T} = \\sqrt{\\frac{2}{N}}.\n",
    "\\end{equation}\n",
    "\n",
    "If the samples are spaced by time $\\Delta t$, the Nyquist theorem says that they will cover a bandwidth $\\Delta\\nu = \\frac{1}{2\\Delta t}$ (note that here, $\\Delta\\nu$ is the total **bandwidth**, *not* the frequency resolution $\\Delta\\nu_{res}$). The total time $t$ spanning the Fourier transform is $N\\Delta t$, such that, after the appropriate substitutions,\n",
    "\n",
    "\\begin{equation}\n",
    "    \\frac{\\sigma_T}{T} = \\frac{1}{\\sqrt{t\\Delta\\nu}},\n",
    "\\end{equation}\n",
    "\n",
    "which is called the **radiometer equation**. Intuitively, it means that the relative uncertainty of a temperature measurement decreases with a wider bandwidth or a longer integration time."
   ]
  },
  {
   "cell_type": "markdown",
   "metadata": {},
   "source": [
    "## Heterodyning\n",
    "\n",
    "**Heterodyning** consists in mixing (multiplying) the original signal with a pure tone (called the Local Oscillator, or **LO**), which has a frequency equal to the lowest frequency of the band we want to measure. The technique uses the following trigonometric identity:\n",
    "\n",
    "\\begin{equation}\n",
    "    \\sin{(a)}\\cdot\\sin{(b)} = \\frac{1}{2}\\left(\\sin{\\left(a-b\\right)} - \\sin{\\left(a+b\\right)}\\right).\n",
    "\\end{equation}\n",
    "\n",
    "Below is a figure illustrating this identity."
   ]
  },
  {
   "cell_type": "markdown",
   "metadata": {},
   "source": [
    "<center><img src=\"Heterodyning.png\"/></center>"
   ]
  },
  {
   "cell_type": "markdown",
   "metadata": {},
   "source": [
    "Here is an example of how to use that identity in the context of heterodyning.\n",
    "\n",
    "Suppose we are interested in the 1.4 to 1.5 GHz band (close to the 1.42 GHz neutral hydrogen line), it would be possible to simply sample the whole 0 to 1.5 GHz band at a sampling rate of 3 GHz. Instead, we will use heterodyning and sample at a much slower rate of 0.2 GHz, which is easier to achieve. First, we must filter the signal to the band of interest, i.e. we remove all the Fourier components outside 1.4 to 1.5 GHz, such that after that filter we have the incoming electric field\n",
    "\n",
    "\\begin{equation}\n",
    "    E_{in} = \\sum_{1.4\\,\\text{GHz}<\\nu<1.5\\,\\text{GHz}}|\\tilde{E}(\\nu)|_{in}\\sin{\\left(2\\pi\\nu(t + \\phi_{in,\\nu})\\right)}\n",
    "\\end{equation}\n",
    "\n",
    "where the incoming electric field $E_{in}$ was written as a sum of its Fourier components after the bandpass. We then mix this signal with the LO, whic his a pure tone (sine wave) that has the form $E_{LO} = A_{LO}\\sin{\\left(2\\pi\\nu_{LO} (t+\\phi_{LO})\\right)}$, such that, using the identity above, we obtain the result:\n",
    "\n",
    "\\begin{equation}\n",
    "\\begin{split}\n",
    "    E_{out} &= E_{in}\\cdot E_{LO}\\\\\n",
    "    &= \\frac{A_{LO}}{2}\\sum_{1.4\\,\\text{GHz}<\\nu<1.5\\,\\text{GHz}}|\\tilde{E}(\\nu)|_{in}\\left( \\sin{\\left( 2\\pi\\left(\\nu\\phi_{in,\\nu} - \\nu_{LO}\\phi_{LO} + t(\\nu-\\nu_{LO})\\right) \\right)} - \\sin{\\left( 2\\pi\\left(\\nu\\phi_{in,\\nu} + \\nu_{LO}\\phi_{LO} + t(\\nu+\\nu_{LO})\\right) \\right)} \\right).\n",
    "\\end{split}\n",
    "\\end{equation}\n",
    "\n",
    "This scary equation can be simplified by applying a lowpass (LP) filter capped at $|1.5\\,\\text{GHz}-\\nu_{LO}|=0.1\\,\\text{GHz}$, which we call the **intermediate frequency** (IF) band. This immediately removes the second sine term in the sum, and by lumping together both phase terms, we get:\n",
    "\n",
    "\\begin{equation}\n",
    "\\begin{split}\n",
    "    E^{IF}_{out} &\\propto \\sum_{\\nu<0.1\\,\\text{GHz}}\\sin{\\left( 2\\pi \\nu (t-\\phi_{IF,\\nu})\\right)}.\n",
    "\\end{split}\n",
    "\\end{equation}\n",
    "\n",
    "This is essentially a copy of the original signal, brought down to a band which can be sampled with a much slower sampling rate. In summary, and without the math, the steps are:\n",
    "\n",
    "1. Bandpass the signal to the band of interest (or, at the very least, highpass it to suppress all the frequencies below the lowest frequency of your band of interest, which is 1.4 GHz in our example). You now have a signal with lowest frequency of 1.4 GHz.\n",
    "2. Multiply this signal with a pure sine wave of frequency 1.4 GHz. You now have two copies of your signal: one shifted down, such that the lowest frequency is zero, and one shifted up, such that the lowest frequency is 1.4 + 1.4 = 2.8 GHz.\n",
    "3. Lowpass the signal such that you suppress all the frequencies above 0.1 GHz. All you have left is your original 1.4 to 1.5 GHz signal, shifted to the 0 to 0.1 GHz band.\n",
    "4. Sample that band, then add 1.4 GHz to all your frequencies when you do your data analysis."
   ]
  },
  {
   "cell_type": "markdown",
   "metadata": {},
   "source": [
    "## N$^\\text{th}$ Nyquist zone sampling\n",
    "\n",
    "The Nyquist theorem states that the sampling rate you need to sample some signal is determined by your *bandwidth*, i.e. the difference between the highest and lowest frequency of your band, *not* by the absolute magnitude of the frequency you are sampling. Heterodyning has shown us how this is possible, but there is a second method.\n",
    "\n",
    "Let's use the same band as in our heterodyning example: 1.4 to 1.5 GHz. This second method also starts with applying a 1.4 to 1.5 GHz bandpass filter on our original signal, but no mixing is required. Indeed, our signal is aliased (copied) in the 1.3 to 1.4 GHz band, then in the 1.2 to 1.3 GHz band, etc., all the way to the 0 to 0.1 GHz band, where it could theoretically be sampled at a 0.2 GHz sampling rate. Note that it is also aliased in the 1.5 to 1.6 GHz band, 1.6 to 1.7 band, etc. In practice, for technical reasons, it hard to sample in bands that are too far from that of the original (non-aliased) signal, but this technique is still used in the appropriate contexts. Those bands, where the signal is copied, are called **Nyquist zones**, and the order of their frequencies are flipped from one to the next. The figure below illustrates how that works."
   ]
  },
  {
   "cell_type": "markdown",
   "metadata": {},
   "source": [
    "<center><img src=\"Nyquist_zones.png\"/></center>"
   ]
  }
 ],
 "metadata": {
  "kernelspec": {
   "display_name": "Python 3",
   "language": "python",
   "name": "python3"
  },
  "language_info": {
   "codemirror_mode": {
    "name": "ipython",
    "version": 3
   },
   "file_extension": ".py",
   "mimetype": "text/x-python",
   "name": "python",
   "nbconvert_exporter": "python",
   "pygments_lexer": "ipython3",
   "version": "3.8.3"
  }
 },
 "nbformat": 4,
 "nbformat_minor": 4
}
